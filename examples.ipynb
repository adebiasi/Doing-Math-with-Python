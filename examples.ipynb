{
 "cells": [
  {
   "cell_type": "markdown",
   "id": "4dd552c9",
   "metadata": {},
   "source": [
    "## Symbols\n",
    "Examples made using library **sympy**."
   ]
  },
  {
   "cell_type": "code",
   "execution_count": 68,
   "id": "a3e6113d",
   "metadata": {},
   "outputs": [
    {
     "data": {
      "text/latex": [
       "$\\displaystyle 2 x + 1$"
      ],
      "text/plain": [
       "2*x + 1"
      ]
     },
     "execution_count": 68,
     "metadata": {},
     "output_type": "execute_result"
    }
   ],
   "source": [
    "from sympy import Symbol\n",
    "x = Symbol('x')\n",
    "x + x + 1"
   ]
  },
  {
   "cell_type": "code",
   "execution_count": 69,
   "id": "a2a9c0a8",
   "metadata": {},
   "outputs": [
    {
     "data": {
      "text/latex": [
       "$\\displaystyle 2 x + 1$"
      ],
      "text/plain": [
       "2*x + 1"
      ]
     },
     "execution_count": 69,
     "metadata": {},
     "output_type": "execute_result"
    }
   ],
   "source": [
    "a = Symbol('x')\n",
    "a + a + 1"
   ]
  },
  {
   "cell_type": "code",
   "execution_count": 72,
   "id": "932335b7",
   "metadata": {},
   "outputs": [
    {
     "data": {
      "text/latex": [
       "$\\displaystyle 2 x y$"
      ],
      "text/plain": [
       "2*x*y"
      ]
     },
     "execution_count": 72,
     "metadata": {},
     "output_type": "execute_result"
    }
   ],
   "source": [
    "x = Symbol('x')\n",
    "y = Symbol('y')\n",
    "z = Symbol('z')\n",
    "from sympy import symbols\n",
    "x,y,z = symbols('x,y,z')\n",
    "s = x*y + x*y\n",
    "s"
   ]
  },
  {
   "cell_type": "code",
   "execution_count": 75,
   "id": "e2945816",
   "metadata": {},
   "outputs": [
    {
     "data": {
      "text/latex": [
       "$\\displaystyle \\left(x - y\\right) \\left(x + y\\right)$"
      ],
      "text/plain": [
       "(x - y)*(x + y)"
      ]
     },
     "execution_count": 75,
     "metadata": {},
     "output_type": "execute_result"
    }
   ],
   "source": [
    "from sympy import factor\n",
    "expr = x**2 - y**2\n",
    "factor(expr)"
   ]
  },
  {
   "cell_type": "code",
   "execution_count": 77,
   "id": "d468a5e2",
   "metadata": {},
   "outputs": [
    {
     "data": {
      "text/latex": [
       "$\\displaystyle x^{2} - y^{2}$"
      ],
      "text/plain": [
       "x**2 - y**2"
      ]
     },
     "execution_count": 77,
     "metadata": {},
     "output_type": "execute_result"
    }
   ],
   "source": [
    "from sympy import expand\n",
    "factors = factor(expr)\n",
    "expand(factors)"
   ]
  },
  {
   "cell_type": "code",
   "execution_count": 78,
   "id": "b81095d9",
   "metadata": {},
   "outputs": [
    {
     "name": "stdout",
     "output_type": "stream",
     "text": [
      "x⋅y + x + y\n"
     ]
    }
   ],
   "source": [
    "expr = x + y + x*y\n",
    "from sympy import pprint\n",
    "pprint(expr)"
   ]
  },
  {
   "cell_type": "code",
   "execution_count": 79,
   "id": "5bfb8847",
   "metadata": {},
   "outputs": [
    {
     "data": {
      "text/latex": [
       "$\\displaystyle x^{3} + x^{2} + 5 x$"
      ],
      "text/plain": [
       "x**3 + x**2 + 5*x"
      ]
     },
     "execution_count": 79,
     "metadata": {},
     "output_type": "execute_result"
    }
   ],
   "source": [
    "from sympy import sympify\n",
    "expr = sympify(x**2 + 3*x + x**3 + 2*x)\n",
    "expr"
   ]
  },
  {
   "cell_type": "code",
   "execution_count": 81,
   "id": "83b2872a",
   "metadata": {},
   "outputs": [
    {
     "data": {
      "text/plain": [
       "[0, -1/2 - sqrt(19)*I/2, -1/2 + sqrt(19)*I/2]"
      ]
     },
     "execution_count": 81,
     "metadata": {},
     "output_type": "execute_result"
    }
   ],
   "source": [
    "from sympy import Symbol, solve\n",
    "solve(expr)"
   ]
  },
  {
   "cell_type": "code",
   "execution_count": 82,
   "id": "d3dee5db",
   "metadata": {},
   "outputs": [
    {
     "data": {
      "text/plain": [
       "[{x: 0}, {x: -1/2 - sqrt(19)*I/2}, {x: -1/2 + sqrt(19)*I/2}]"
      ]
     },
     "execution_count": 82,
     "metadata": {},
     "output_type": "execute_result"
    }
   ],
   "source": [
    "solve(expr, dict=True)"
   ]
  },
  {
   "cell_type": "code",
   "execution_count": 83,
   "id": "d47784c1",
   "metadata": {},
   "outputs": [
    {
     "data": {
      "image/png": "[encoded data removed]",
      "text/plain": [
       "<Figure size 432x288 with 1 Axes>"
      ]
     },
     "metadata": {
      "needs_background": "light"
     },
     "output_type": "display_data"
    },
    {
     "data": {
      "text/plain": [
       "<sympy.plotting.plot.Plot at 0x234edf7ca60>"
      ]
     },
     "execution_count": 83,
     "metadata": {},
     "output_type": "execute_result"
    }
   ],
   "source": [
    "from sympy.plotting import plot\n",
    "from sympy import Symbol\n",
    "x = Symbol('x')\n",
    "plot(2*x+3)"
   ]
  },
  {
   "cell_type": "code",
   "execution_count": 84,
   "id": "fec259dc",
   "metadata": {},
   "outputs": [
    {
     "data": {
      "image/png": "[encoded data removed]",
      "text/plain": [
       "<Figure size 432x288 with 1 Axes>"
      ]
     },
     "metadata": {
      "needs_background": "light"
     },
     "output_type": "display_data"
    },
    {
     "data": {
      "text/plain": [
       "<sympy.plotting.plot.Plot at 0x234edb40a00>"
      ]
     },
     "execution_count": 84,
     "metadata": {},
     "output_type": "execute_result"
    }
   ],
   "source": [
    "plot(expr)"
   ]
  },
  {
   "cell_type": "markdown",
   "id": "6c0adc56",
   "metadata": {},
   "source": [
    "## Basic math"
   ]
  },
  {
   "cell_type": "markdown",
   "id": "67507d9e",
   "metadata": {},
   "source": [
    "### Try fractions:\n",
    "Examples made using library **fractions**."
   ]
  },
  {
   "cell_type": "code",
   "execution_count": 2,
   "id": "da9abe6b",
   "metadata": {},
   "outputs": [
    {
     "data": {
      "text/plain": [
       "Fraction(3, 4)"
      ]
     },
     "execution_count": 2,
     "metadata": {},
     "output_type": "execute_result"
    }
   ],
   "source": [
    "from fractions import Fraction\n",
    "f = Fraction(3, 4)\n",
    "f"
   ]
  },
  {
   "cell_type": "code",
   "execution_count": 3,
   "id": "38b2da74",
   "metadata": {},
   "outputs": [
    {
     "data": {
      "text/plain": [
       "3.25"
      ]
     },
     "execution_count": 3,
     "metadata": {},
     "output_type": "execute_result"
    }
   ],
   "source": [
    "Fraction(3, 4) + 1 + 1.5"
   ]
  },
  {
   "cell_type": "code",
   "execution_count": 4,
   "id": "584692ed",
   "metadata": {},
   "outputs": [
    {
     "data": {
      "text/plain": [
       "Fraction(2, 1)"
      ]
     },
     "execution_count": 4,
     "metadata": {},
     "output_type": "execute_result"
    }
   ],
   "source": [
    "Fraction(3, 4) + 1 + Fraction(1/4)"
   ]
  },
  {
   "cell_type": "markdown",
   "id": "e9237d4c",
   "metadata": {},
   "source": [
    "### Try complex numbers:"
   ]
  },
  {
   "cell_type": "code",
   "execution_count": 7,
   "id": "979cec07",
   "metadata": {},
   "outputs": [
    {
     "data": {
      "text/plain": [
       "(2+3j)"
      ]
     },
     "execution_count": 7,
     "metadata": {},
     "output_type": "execute_result"
    }
   ],
   "source": [
    "a = 2 + 3j\n",
    "a"
   ]
  },
  {
   "cell_type": "code",
   "execution_count": 6,
   "id": "d4628990",
   "metadata": {},
   "outputs": [
    {
     "data": {
      "text/plain": [
       "complex"
      ]
     },
     "execution_count": 6,
     "metadata": {},
     "output_type": "execute_result"
    }
   ],
   "source": [
    "type(a)"
   ]
  },
  {
   "cell_type": "code",
   "execution_count": 8,
   "id": "9632a794",
   "metadata": {},
   "outputs": [],
   "source": [
    "b = 3 + 3j"
   ]
  },
  {
   "cell_type": "code",
   "execution_count": 9,
   "id": "e59ca3d6",
   "metadata": {},
   "outputs": [
    {
     "data": {
      "text/plain": [
       "(5+6j)"
      ]
     },
     "execution_count": 9,
     "metadata": {},
     "output_type": "execute_result"
    }
   ],
   "source": [
    "a + b"
   ]
  },
  {
   "cell_type": "code",
   "execution_count": 10,
   "id": "4cc2ff12",
   "metadata": {},
   "outputs": [
    {
     "data": {
      "text/plain": [
       "(-1+0j)"
      ]
     },
     "execution_count": 10,
     "metadata": {},
     "output_type": "execute_result"
    }
   ],
   "source": [
    "a - b"
   ]
  },
  {
   "cell_type": "code",
   "execution_count": 11,
   "id": "41388385",
   "metadata": {},
   "outputs": [
    {
     "data": {
      "text/plain": [
       "2.0"
      ]
     },
     "execution_count": 11,
     "metadata": {},
     "output_type": "execute_result"
    }
   ],
   "source": [
    "a.real"
   ]
  },
  {
   "cell_type": "code",
   "execution_count": 12,
   "id": "3d7caccf",
   "metadata": {},
   "outputs": [
    {
     "data": {
      "text/plain": [
       "3.0"
      ]
     },
     "execution_count": 12,
     "metadata": {},
     "output_type": "execute_result"
    }
   ],
   "source": [
    "a.imag"
   ]
  },
  {
   "cell_type": "code",
   "execution_count": 13,
   "id": "74a83605",
   "metadata": {},
   "outputs": [
    {
     "data": {
      "text/plain": [
       "(2-3j)"
      ]
     },
     "execution_count": 13,
     "metadata": {},
     "output_type": "execute_result"
    }
   ],
   "source": [
    "a.conjugate()"
   ]
  },
  {
   "cell_type": "code",
   "execution_count": 14,
   "id": "7b58b9dc",
   "metadata": {},
   "outputs": [
    {
     "data": {
      "text/plain": [
       "3.605551275463989"
      ]
     },
     "execution_count": 14,
     "metadata": {},
     "output_type": "execute_result"
    }
   ],
   "source": [
    "abs(a)"
   ]
  },
  {
   "cell_type": "markdown",
   "id": "2bf9793d",
   "metadata": {},
   "source": [
    "## Derivatives and integrals\n",
    "Examples made using library **sympy**.\n",
    "### Try limits:"
   ]
  },
  {
   "cell_type": "code",
   "execution_count": 18,
   "id": "91972061",
   "metadata": {},
   "outputs": [
    {
     "data": {
      "text/latex": [
       "$\\displaystyle \\lim_{x \\to \\infty} \\frac{1}{x}$"
      ],
      "text/plain": [
       "Limit(1/x, x, oo, dir='-')"
      ]
     },
     "execution_count": 18,
     "metadata": {},
     "output_type": "execute_result"
    }
   ],
   "source": [
    "from sympy import Limit, Symbol, S\n",
    "x = Symbol('x')\n",
    "Limit(1/x, x, S.Infinity)"
   ]
  },
  {
   "cell_type": "code",
   "execution_count": 20,
   "id": "d7a60191",
   "metadata": {},
   "outputs": [
    {
     "data": {
      "text/latex": [
       "$\\displaystyle 0$"
      ],
      "text/plain": [
       "0"
      ]
     },
     "execution_count": 20,
     "metadata": {},
     "output_type": "execute_result"
    }
   ],
   "source": [
    "l = Limit(1/x, x, S.Infinity)\n",
    "l.doit()"
   ]
  },
  {
   "cell_type": "code",
   "execution_count": 21,
   "id": "001c953f",
   "metadata": {},
   "outputs": [
    {
     "data": {
      "text/latex": [
       "$\\displaystyle -\\infty$"
      ],
      "text/plain": [
       "-oo"
      ]
     },
     "execution_count": 21,
     "metadata": {},
     "output_type": "execute_result"
    }
   ],
   "source": [
    "Limit(1/x, x, 0, dir='-').doit()"
   ]
  },
  {
   "cell_type": "code",
   "execution_count": 22,
   "id": "e6ba4227",
   "metadata": {},
   "outputs": [
    {
     "data": {
      "text/latex": [
       "$\\displaystyle 10 t_{1} + 2$"
      ],
      "text/plain": [
       "10*t1 + 2"
      ]
     },
     "execution_count": 22,
     "metadata": {},
     "output_type": "execute_result"
    }
   ],
   "source": [
    "t = Symbol('t')\n",
    "St = 5*t**2 + 2*t + 8\n",
    "t1 = Symbol('t1')\n",
    "delta_t = Symbol('delta_t')\n",
    "St1 = St.subs({t: t1})\n",
    "St1_delta = St.subs({t: t1 + delta_t})\n",
    "Limit((St1_delta-St1)/delta_t, delta_t, 0).doit()"
   ]
  },
  {
   "cell_type": "markdown",
   "id": "98886fb8",
   "metadata": {},
   "source": [
    "### Try derivatives:"
   ]
  },
  {
   "cell_type": "code",
   "execution_count": 24,
   "id": "fbe12105",
   "metadata": {},
   "outputs": [
    {
     "data": {
      "text/latex": [
       "$\\displaystyle \\frac{d}{d t} \\left(5 t^{2} + 2 t + 8\\right)$"
      ],
      "text/plain": [
       "Derivative(5*t**2 + 2*t + 8, t)"
      ]
     },
     "execution_count": 24,
     "metadata": {},
     "output_type": "execute_result"
    }
   ],
   "source": [
    "from sympy import Derivative\n",
    "t = Symbol('t')\n",
    "St = 5*t**2 + 2*t + 8\n",
    "Derivative(St, t)"
   ]
  },
  {
   "cell_type": "code",
   "execution_count": 25,
   "id": "cbca8925",
   "metadata": {},
   "outputs": [
    {
     "data": {
      "text/latex": [
       "$\\displaystyle 10 t + 2$"
      ],
      "text/plain": [
       "10*t + 2"
      ]
     },
     "execution_count": 25,
     "metadata": {},
     "output_type": "execute_result"
    }
   ],
   "source": [
    "Derivative(St, t).doit()"
   ]
  },
  {
   "cell_type": "code",
   "execution_count": 29,
   "id": "7b5cea7d",
   "metadata": {},
   "outputs": [
    {
     "data": {
      "text/latex": [
       "$\\displaystyle 12$"
      ],
      "text/plain": [
       "12"
      ]
     },
     "execution_count": 29,
     "metadata": {},
     "output_type": "execute_result"
    }
   ],
   "source": [
    "d = Derivative(St, t)\n",
    "d.doit().subs({t:1})"
   ]
  },
  {
   "cell_type": "markdown",
   "id": "56955a2c",
   "metadata": {},
   "source": [
    "### Try integrals:"
   ]
  },
  {
   "cell_type": "code",
   "execution_count": 30,
   "id": "44101986",
   "metadata": {},
   "outputs": [
    {
     "data": {
      "text/latex": [
       "$\\displaystyle \\frac{k x^{2}}{2}$"
      ],
      "text/plain": [
       "k*x**2/2"
      ]
     },
     "execution_count": 30,
     "metadata": {},
     "output_type": "execute_result"
    }
   ],
   "source": [
    "from sympy import Integral, Symbol\n",
    "x = Symbol('x')\n",
    "k = Symbol('k')\n",
    "Integral(k*x, x).doit()"
   ]
  },
  {
   "cell_type": "code",
   "execution_count": 31,
   "id": "0e7fcdc9",
   "metadata": {},
   "outputs": [
    {
     "data": {
      "text/latex": [
       "$\\displaystyle 2 k$"
      ],
      "text/plain": [
       "2*k"
      ]
     },
     "execution_count": 31,
     "metadata": {},
     "output_type": "execute_result"
    }
   ],
   "source": [
    "Integral(k*x, (x, 0, 2)).doit()"
   ]
  },
  {
   "cell_type": "markdown",
   "id": "1297ff55",
   "metadata": {},
   "source": [
    "## Plots\n",
    "Examples made using library **pylab**."
   ]
  },
  {
   "cell_type": "code",
   "execution_count": 49,
   "id": "028fc097",
   "metadata": {},
   "outputs": [],
   "source": [
    "x_numbers = [1, 2, 3]\n",
    "y_numbers = [2, 4, 6]\n",
    "from pylab import plot, show"
   ]
  },
  {
   "cell_type": "code",
   "execution_count": 54,
   "id": "edc14fef",
   "metadata": {},
   "outputs": [
    {
     "data": {
      "text/plain": [
       "[<matplotlib.lines.Line2D at 0x234edc595b0>]"
      ]
     },
     "execution_count": 54,
     "metadata": {},
     "output_type": "execute_result"
    },
    {
     "data": {
      "image/png": "[encoded data removed]",
      "text/plain": [
       "<Figure size 432x288 with 1 Axes>"
      ]
     },
     "metadata": {
      "needs_background": "light"
     },
     "output_type": "display_data"
    }
   ],
   "source": [
    "plot(x_numbers, y_numbers)"
   ]
  },
  {
   "cell_type": "code",
   "execution_count": 55,
   "id": "9e4a8eb2",
   "metadata": {},
   "outputs": [
    {
     "data": {
      "text/plain": [
       "[<matplotlib.lines.Line2D at 0x234ee27fdc0>]"
      ]
     },
     "execution_count": 55,
     "metadata": {},
     "output_type": "execute_result"
    },
    {
     "data": {
      "image/png": "[encoded data removed]",
      "text/plain": [
       "<Figure size 432x288 with 1 Axes>"
      ]
     },
     "metadata": {
      "needs_background": "light"
     },
     "output_type": "display_data"
    }
   ],
   "source": [
    "plot(x_numbers, y_numbers, marker='o')"
   ]
  },
  {
   "cell_type": "code",
   "execution_count": 56,
   "id": "412fcb25",
   "metadata": {},
   "outputs": [
    {
     "data": {
      "text/plain": [
       "[<matplotlib.lines.Line2D at 0x234edc44520>]"
      ]
     },
     "execution_count": 56,
     "metadata": {},
     "output_type": "execute_result"
    },
    {
     "data": {
      "image/png": "[encoded data removed]",
      "text/plain": [
       "<Figure size 432x288 with 1 Axes>"
      ]
     },
     "metadata": {
      "needs_background": "light"
     },
     "output_type": "display_data"
    }
   ],
   "source": [
    "plot(x_numbers, y_numbers, 'o')"
   ]
  },
  {
   "cell_type": "code",
   "execution_count": 57,
   "id": "cfbedfa3",
   "metadata": {},
   "outputs": [],
   "source": [
    "nyc_temp = [53.9, 56.3, 56.4, 53.4, 54.5, 55.8, 56.8, 55.0, 55.3, 54.0, 56.7, 56.4, 57.3]"
   ]
  },
  {
   "cell_type": "code",
   "execution_count": 58,
   "id": "7063da23",
   "metadata": {},
   "outputs": [
    {
     "data": {
      "text/plain": [
       "[<matplotlib.lines.Line2D at 0x234edfc1c40>]"
      ]
     },
     "execution_count": 58,
     "metadata": {},
     "output_type": "execute_result"
    },
    {
     "data": {
      "image/png": "[encoded data removed]",
      "text/plain": [
       "<Figure size 432x288 with 1 Axes>"
      ]
     },
     "metadata": {
      "needs_background": "light"
     },
     "output_type": "display_data"
    }
   ],
   "source": [
    "plot(nyc_temp, marker='o')"
   ]
  },
  {
   "cell_type": "code",
   "execution_count": 60,
   "id": "968db0e0",
   "metadata": {},
   "outputs": [
    {
     "data": {
      "text/plain": [
       "[<matplotlib.lines.Line2D at 0x234edf335e0>]"
      ]
     },
     "execution_count": 60,
     "metadata": {},
     "output_type": "execute_result"
    },
    {
     "data": {
      "image/png": "[encoded data removed]",
      "text/plain": [
       "<Figure size 432x288 with 1 Axes>"
      ]
     },
     "metadata": {
      "needs_background": "light"
     },
     "output_type": "display_data"
    }
   ],
   "source": [
    "years = range(2000, 2013)\n",
    "plot(years, nyc_temp, marker='o')"
   ]
  },
  {
   "cell_type": "code",
   "execution_count": 61,
   "id": "6e591b1e",
   "metadata": {},
   "outputs": [
    {
     "data": {
      "text/plain": [
       "[<matplotlib.lines.Line2D at 0x234edd75640>,\n",
       " <matplotlib.lines.Line2D at 0x234edd75700>,\n",
       " <matplotlib.lines.Line2D at 0x234edd757c0>]"
      ]
     },
     "execution_count": 61,
     "metadata": {},
     "output_type": "execute_result"
    },
    {
     "data": {
      "image/png": "[encoded data removed]",
      "text/plain": [
       "<Figure size 432x288 with 1 Axes>"
      ]
     },
     "metadata": {
      "needs_background": "light"
     },
     "output_type": "display_data"
    }
   ],
   "source": [
    "nyc_temp_2000 = [31.3, 37.3, 47.2, 51.0, 63.5, 71.3, 72.3, 72.7, 66.0, 57.0, 45.3, 31.1]\n",
    "nyc_temp_2006 = [40.9, 35.7, 43.1, 55.7, 63.1, 71.0, 77.9, 75.8, 66.6, 56.2, 51.9, 43.6]\n",
    "nyc_temp_2012 = [37.3, 40.9, 50.9, 54.8, 65.1, 71.0, 78.8, 76.7, 68.8, 58.0, 43.9, 41.5]\n",
    "months = range(1, 13)\n",
    "plot(months, nyc_temp_2000, months, nyc_temp_2006, months, nyc_temp_2012)"
   ]
  },
  {
   "cell_type": "code",
   "execution_count": 62,
   "id": "1eb47aed",
   "metadata": {},
   "outputs": [
    {
     "data": {
      "text/plain": [
       "<matplotlib.legend.Legend at 0x234edcdc070>"
      ]
     },
     "execution_count": 62,
     "metadata": {},
     "output_type": "execute_result"
    },
    {
     "data": {
      "image/png": "[encoded data removed]",
      "text/plain": [
       "<Figure size 432x288 with 1 Axes>"
      ]
     },
     "metadata": {
      "needs_background": "light"
     },
     "output_type": "display_data"
    }
   ],
   "source": [
    "from pylab import legend\n",
    "legend([2000, 2006, 2012])"
   ]
  },
  {
   "cell_type": "code",
   "execution_count": 63,
   "id": "49e826bd",
   "metadata": {},
   "outputs": [
    {
     "data": {
      "text/plain": [
       "[<matplotlib.lines.Line2D at 0x234ee17ffd0>,\n",
       " <matplotlib.lines.Line2D at 0x234ee17b0d0>,\n",
       " <matplotlib.lines.Line2D at 0x234ee17b190>]"
      ]
     },
     "execution_count": 63,
     "metadata": {},
     "output_type": "execute_result"
    },
    {
     "data": {
      "image/png": "[encoded data removed]",
      "text/plain": [
       "<Figure size 432x288 with 1 Axes>"
      ]
     },
     "metadata": {
      "needs_background": "light"
     },
     "output_type": "display_data"
    }
   ],
   "source": [
    "plot(months, nyc_temp_2000, months, nyc_temp_2006, months, nyc_temp_2012)"
   ]
  },
  {
   "cell_type": "code",
   "execution_count": 64,
   "id": "b72ba755",
   "metadata": {},
   "outputs": [
    {
     "data": {
      "text/plain": [
       "<matplotlib.legend.Legend at 0x234ee1885b0>"
      ]
     },
     "execution_count": 64,
     "metadata": {},
     "output_type": "execute_result"
    },
    {
     "data": {
      "image/png": "[encoded data removed]",
      "text/plain": [
       "<Figure size 432x288 with 1 Axes>"
      ]
     },
     "metadata": {
      "needs_background": "light"
     },
     "output_type": "display_data"
    }
   ],
   "source": [
    "plot(months, nyc_temp_2000, months, nyc_temp_2006, months, nyc_temp_2012)\n",
    "legend([2000, 2006, 2012])"
   ]
  },
  {
   "cell_type": "code",
   "execution_count": 65,
   "id": "d6d544b4",
   "metadata": {},
   "outputs": [
    {
     "data": {
      "text/plain": [
       "<matplotlib.legend.Legend at 0x234edeb4be0>"
      ]
     },
     "execution_count": 65,
     "metadata": {},
     "output_type": "execute_result"
    },
    {
     "data": {
      "image/png": "[encoded data removed]",
      "text/plain": [
       "<Figure size 432x288 with 1 Axes>"
      ]
     },
     "metadata": {
      "needs_background": "light"
     },
     "output_type": "display_data"
    }
   ],
   "source": [
    "from pylab import plot, show, title, xlabel, ylabel, legend\n",
    "plot(months, nyc_temp_2000, months, nyc_temp_2006, months, nyc_temp_2012)\n",
    "title('Average monthly temperature in NYC')\n",
    "xlabel('Month')\n",
    "ylabel('Temperature')\n",
    "legend([2000, 2006, 2012])"
   ]
  },
  {
   "cell_type": "code",
   "execution_count": null,
   "id": "7ad4e337",
   "metadata": {},
   "outputs": [],
   "source": []
  }
 ],
 "metadata": {
  "kernelspec": {
   "display_name": "Python 3",
   "language": "python",
   "name": "python3"
  },
  "language_info": {
   "codemirror_mode": {
    "name": "ipython",
    "version": 3
   },
   "file_extension": ".py",
   "mimetype": "text/x-python",
   "name": "python",
   "nbconvert_exporter": "python",
   "pygments_lexer": "ipython3",
   "version": "3.8.8"
  }
 },
 "nbformat": 4,
 "nbformat_minor": 5
}
